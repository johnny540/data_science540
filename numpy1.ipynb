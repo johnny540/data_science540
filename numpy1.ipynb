{
  "nbformat": 4,
  "nbformat_minor": 0,
  "metadata": {
    "colab": {
      "name": "numpy1.ipynb",
      "provenance": [],
      "collapsed_sections": [],
      "authorship_tag": "ABX9TyP78DRh+XWCBGPTTD7B0fOm",
      "include_colab_link": true
    },
    "kernelspec": {
      "name": "python3",
      "display_name": "Python 3"
    },
    "language_info": {
      "name": "python"
    }
  },
  "cells": [
    {
      "cell_type": "markdown",
      "metadata": {
        "id": "view-in-github",
        "colab_type": "text"
      },
      "source": [
        "<a href=\"https://colab.research.google.com/github/johnny540/data_science540/blob/main/numpy1.ipynb\" target=\"_parent\"><img src=\"https://colab.research.google.com/assets/colab-badge.svg\" alt=\"Open In Colab\"/></a>"
      ]
    },
    {
      "cell_type": "code",
      "metadata": {
        "id": "TdIuvBsgnwpX"
      },
      "source": [
        "# import numpy \n",
        "import numpy as np"
      ],
      "execution_count": 1,
      "outputs": []
    },
    {
      "cell_type": "code",
      "metadata": {
        "colab": {
          "base_uri": "https://localhost:8080/"
        },
        "id": "N79_5utPn5ba",
        "outputId": "48ed8855-02d1-4513-badf-d925e59ec498"
      },
      "source": [
        "# create a vector as a row in numy\n",
        "vector_row = np.array([10,20,30,40,50])\n",
        "print(\"Single row\")\n",
        "print(vector_row)"
      ],
      "execution_count": 2,
      "outputs": [
        {
          "output_type": "stream",
          "text": [
            "Single row\n",
            "[10 20 30 40 50]\n"
          ],
          "name": "stdout"
        }
      ]
    },
    {
      "cell_type": "code",
      "metadata": {
        "colab": {
          "base_uri": "https://localhost:8080/"
        },
        "id": "SlBhnfX0n5dT",
        "outputId": "563ae94c-e3bd-4189-c7e3-3b658aae6b77"
      },
      "source": [
        "# create a single column in numpy\n",
        "vector_column = np.array([[10],[20],[30],[40],[50]])\n",
        "print(\"single column\")\n",
        "print(vector_column)"
      ],
      "execution_count": 4,
      "outputs": [
        {
          "output_type": "stream",
          "text": [
            "single column\n",
            "[[10]\n",
            " [20]\n",
            " [30]\n",
            " [40]\n",
            " [50]]\n"
          ],
          "name": "stdout"
        }
      ]
    },
    {
      "cell_type": "code",
      "metadata": {
        "colab": {
          "base_uri": "https://localhost:8080/"
        },
        "id": "0xIBo1csn5fc",
        "outputId": "50ef9833-11c7-4633-d888-53183c3b05e1"
      },
      "source": [
        "#multi dimentional array\n",
        "arr = np.array([[10,20],[30,40]])\n",
        "print(arr)"
      ],
      "execution_count": 6,
      "outputs": [
        {
          "output_type": "stream",
          "text": [
            "[[10 20]\n",
            " [30 40]]\n"
          ],
          "name": "stdout"
        }
      ]
    },
    {
      "cell_type": "code",
      "metadata": {
        "colab": {
          "base_uri": "https://localhost:8080/"
        },
        "id": "lD6XF4ysn5i0",
        "outputId": "7b083154-2f34-4936-c7d7-13ba4aa1992e"
      },
      "source": [
        "#selecting elements from vector or matrix\n",
        "vector = np.array([10,20,30,40,50])\n",
        "print(vector[0])\n",
        "print(vector[1])\n",
        "print(vector[2])"
      ],
      "execution_count": 8,
      "outputs": [
        {
          "output_type": "stream",
          "text": [
            "10\n",
            "20\n",
            "30\n"
          ],
          "name": "stdout"
        }
      ]
    },
    {
      "cell_type": "code",
      "metadata": {
        "colab": {
          "base_uri": "https://localhost:8080/"
        },
        "id": "g77dym2Fn5t7",
        "outputId": "8c9d65df-e003-409d-b6dc-2412a0b75525"
      },
      "source": [
        "# select all elements of vector\n",
        "vector = np.array([10,20,30,40,50])\n",
        "print(vector[:])"
      ],
      "execution_count": 10,
      "outputs": [
        {
          "output_type": "stream",
          "text": [
            "[10 20 30 40 50]\n"
          ],
          "name": "stdout"
        }
      ]
    },
    {
      "cell_type": "code",
      "metadata": {
        "colab": {
          "base_uri": "https://localhost:8080/"
        },
        "id": "w_TVGJZbqT9A",
        "outputId": "3e2aef97-e917-4683-cb18-07df1175851b"
      },
      "source": [
        "# select elements by slicing\n",
        "vector = np.array([10,20,30,40,50])\n",
        "print(vector[:3])\n",
        "print(vector[1:4])\n",
        "print(vector[-1])\n",
        "print(vector[-3])\n",
        "print(vector[-2:])"
      ],
      "execution_count": 20,
      "outputs": [
        {
          "output_type": "stream",
          "text": [
            "[10 20 30]\n",
            "[20 30 40]\n",
            "50\n",
            "30\n",
            "[40 50]\n"
          ],
          "name": "stdout"
        }
      ]
    },
    {
      "cell_type": "markdown",
      "metadata": {
        "id": "zt5sb8CErxY0"
      },
      "source": [
        ""
      ]
    },
    {
      "cell_type": "code",
      "metadata": {
        "colab": {
          "base_uri": "https://localhost:8080/"
        },
        "id": "YXF2KpKqqthO",
        "outputId": "0eba9d96-9f50-43ff-f0ea-1b04c0a6118c"
      },
      "source": [
        "# create two dimensional array which is called a matrix\n",
        "matrix = np.array([[1,2],[1,2],[1,2]])\n",
        "print(matrix)"
      ],
      "execution_count": 22,
      "outputs": [
        {
          "output_type": "stream",
          "text": [
            "[[1 2]\n",
            " [1 2]\n",
            " [1 2]]\n"
          ],
          "name": "stdout"
        }
      ]
    },
    {
      "cell_type": "code",
      "metadata": {
        "id": "MhWAreL4rnYM"
      },
      "source": [
        ""
      ],
      "execution_count": null,
      "outputs": []
    }
  ]
}